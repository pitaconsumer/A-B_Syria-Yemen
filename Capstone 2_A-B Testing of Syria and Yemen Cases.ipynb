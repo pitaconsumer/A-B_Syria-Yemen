{
 "cells": [
  {
   "cell_type": "markdown",
   "metadata": {},
   "source": [
    "# Capstone 2: A/B Testing"
   ]
  },
  {
   "cell_type": "markdown",
   "metadata": {},
   "source": [
    "##Dataset Sources: \n",
    "### Sexual Violence in Armed Conflict (SVAC) dataset measures reports of the conflict-related sexual violence committed by armed actors during the years 1989-2015 http://www.sexualviolencedata.org/dataset/\n",
    "###  https://guides.ucf.edu/war/wardata\n",
    "###   YRS 1998-2008: https://www.prio.org/Data/Armed-Conflict/Conflict-Site/\n",
    "### Download Political Instability Task Force Worldwide Atrocities Dataset, January 2016 to February 2020 (.zip) -- less than 10 cases for Yemen\n",
    "### University of MD, Center for International Development & Conflict Management:  https://www.dropbox.com/sh/g30wur1u0g8bppt/AAA01uvF4hEwYs8OU11wtnbea?dl=0\n"
   ]
  },
  {
   "cell_type": "code",
   "execution_count": 5,
   "metadata": {},
   "outputs": [],
   "source": [
    "import numpy as np\n",
    "import pandas as pd\n",
    "import scipy.stats\n",
    "import matplotlib.pyplot as plt\n",
    "import seaborn as sns\n",
    "%matplotlib inline"
   ]
  },
  {
   "cell_type": "markdown",
   "metadata": {},
   "source": [
    "### df = pd.read_excel('grokonez.xlsx')  # parameter (sheetname='sheet_name') is optional\n",
    "### df.to_csv('grokonez.csv', index=False)  # index=True to write row index"
   ]
  },
  {
   "cell_type": "code",
   "execution_count": 9,
   "metadata": {},
   "outputs": [
    {
     "ename": "AttributeError",
     "evalue": "'str' object has no attribute 'to_csv'",
     "output_type": "error",
     "traceback": [
      "\u001b[0;31m---------------------------------------------------------------------------\u001b[0m",
      "\u001b[0;31mAttributeError\u001b[0m                            Traceback (most recent call last)",
      "\u001b[0;32m<ipython-input-9-c7a3b45d0687>\u001b[0m in \u001b[0;36m<module>\u001b[0;34m\u001b[0m\n\u001b[1;32m      1\u001b[0m \u001b[0;31m#Need to convert XLS file to CSV import pandas as pd\u001b[0m\u001b[0;34m\u001b[0m\u001b[0;34m\u001b[0m\u001b[0;34m\u001b[0m\u001b[0m\n\u001b[1;32m      2\u001b[0m \u001b[0mdf_xls\u001b[0m \u001b[0;34m=\u001b[0m \u001b[0;34m(\u001b[0m\u001b[0;34m'Users⁩/⁨mehrunisaqayyum⁩/⁨Downloads/SVAC_2.0_complete_X.1.xlsx⁩'\u001b[0m\u001b[0;34m)\u001b[0m\u001b[0;34m\u001b[0m\u001b[0;34m\u001b[0m\u001b[0m\n\u001b[0;32m----> 3\u001b[0;31m \u001b[0mdf_xls\u001b[0m\u001b[0;34m.\u001b[0m\u001b[0mto_csv\u001b[0m\u001b[0;34m(\u001b[0m\u001b[0;34m'SVAC_2.0_complete_X.1.csv'\u001b[0m\u001b[0;34m,\u001b[0m \u001b[0mindex\u001b[0m\u001b[0;34m=\u001b[0m\u001b[0;32mFalse\u001b[0m\u001b[0;34m,\u001b[0m \u001b[0mencoding\u001b[0m\u001b[0;34m=\u001b[0m\u001b[0;34m'utf-8'\u001b[0m\u001b[0;34m)\u001b[0m\u001b[0;34m\u001b[0m\u001b[0;34m\u001b[0m\u001b[0m\n\u001b[0m\u001b[1;32m      4\u001b[0m \u001b[0;34m\u001b[0m\u001b[0m\n\u001b[1;32m      5\u001b[0m \u001b[0;31m#df.to_csv('SVAC_2.0_complete_X.1.csv', index=False)\u001b[0m\u001b[0;34m\u001b[0m\u001b[0;34m\u001b[0m\u001b[0;34m\u001b[0m\u001b[0m\n",
      "\u001b[0;31mAttributeError\u001b[0m: 'str' object has no attribute 'to_csv'"
     ]
    }
   ],
   "source": [
    "#Need to convert XLS file to CSV import pandas as pd\n",
    "df_xls = ('Users⁩/⁨mehrunisaqayyum⁩/⁨Downloads/SVAC_2.0_complete_X.1.xlsx⁩')\n",
    "df_xls.to_csv('SVAC_2.0_complete_X.1.csv', index=False, encoding='utf-8')\n",
    "\n",
    "#df.to_csv('SVAC_2.0_complete_X.1.csv', index=False)"
   ]
  },
  {
   "cell_type": "code",
   "execution_count": null,
   "metadata": {},
   "outputs": [],
   "source": []
  }
 ],
 "metadata": {
  "kernelspec": {
   "display_name": "Python 3",
   "language": "python",
   "name": "python3"
  },
  "language_info": {
   "codemirror_mode": {
    "name": "ipython",
    "version": 3
   },
   "file_extension": ".py",
   "mimetype": "text/x-python",
   "name": "python",
   "nbconvert_exporter": "python",
   "pygments_lexer": "ipython3",
   "version": "3.7.4"
  }
 },
 "nbformat": 4,
 "nbformat_minor": 2
}
